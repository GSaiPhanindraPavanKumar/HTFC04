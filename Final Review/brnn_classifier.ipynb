{
 "cells": [
  {
   "cell_type": "markdown",
   "metadata": {},
   "source": [
    "# Import the required modules."
   ]
  },
  {
   "cell_type": "code",
   "execution_count": 1,
   "metadata": {
    "colab": {},
    "colab_type": "code",
    "id": "1fJk7zmMjcFm"
   },
   "outputs": [
    {
     "name": "stderr",
     "output_type": "stream",
     "text": [
      "C:\\Users\\aman9\\AppData\\Local\\Temp\\ipykernel_6228\\619629230.py:2: DeprecationWarning: \n",
      "Pyarrow will become a required dependency of pandas in the next major release of pandas (pandas 3.0),\n",
      "(to allow more performant data types, such as the Arrow string type, and better interoperability with other libraries)\n",
      "but was not found to be installed on your system.\n",
      "If this would cause problems for you,\n",
      "please provide us feedback at https://github.com/pandas-dev/pandas/issues/54466\n",
      "        \n",
      "  import pandas as pd\n"
     ]
    }
   ],
   "source": [
    "import numpy as np\n",
    "import pandas as pd\n",
    "import matplotlib.pyplot as plt\n",
    "\n",
    "import seaborn as sns; sns.set()"
   ]
  },
  {
   "cell_type": "code",
   "execution_count": 2,
   "metadata": {
    "colab": {},
    "colab_type": "code",
    "id": "MOKVbdzBjlmP"
   },
   "outputs": [
    {
     "name": "stdout",
     "output_type": "stream",
     "text": [
      "WARNING:tensorflow:From c:\\Users\\aman9\\OneDrive\\Desktop\\HACKTOFUTER\\.venv\\lib\\site-packages\\keras\\src\\losses.py:2976: The name tf.losses.sparse_softmax_cross_entropy is deprecated. Please use tf.compat.v1.losses.sparse_softmax_cross_entropy instead.\n",
      "\n"
     ]
    }
   ],
   "source": [
    "from keras.models import Sequential, load_model\n",
    "from keras.layers import Dense, LSTM, Bidirectional\n",
    "from keras.utils import plot_model\n",
    "from keras.utils import to_categorical\n",
    "\n",
    "\n",
    "from sklearn.model_selection import train_test_split\n",
    "from sklearn.preprocessing import LabelEncoder, StandardScaler\n",
    "from sklearn.metrics import confusion_matrix"
   ]
  },
  {
   "cell_type": "markdown",
   "metadata": {},
   "source": [
    "# number_of_samples determine how many samples from the attack and normal dataset should be read and used."
   ]
  },
  {
   "cell_type": "code",
   "execution_count": 3,
   "metadata": {
    "colab": {},
    "colab_type": "code",
    "id": "u7H2jNs1csN2"
   },
   "outputs": [],
   "source": [
    "number_of_samples = 50000"
   ]
  },
  {
   "cell_type": "markdown",
   "metadata": {},
   "source": [
    "# Read data from attack and normal datasets."
   ]
  },
  {
   "cell_type": "code",
   "execution_count": 4,
   "metadata": {
    "colab": {},
    "colab_type": "code",
    "id": "WkSbWhYPjpdP"
   },
   "outputs": [],
   "source": [
    "data_attack = pd.read_csv('dataset_attack.csv', nrows = number_of_samples)"
   ]
  },
  {
   "cell_type": "code",
   "execution_count": 5,
   "metadata": {
    "colab": {},
    "colab_type": "code",
    "id": "MlnVmtsDj0Af"
   },
   "outputs": [],
   "source": [
    "data_normal = pd.read_csv('dataset_normal.csv', nrows = number_of_samples)"
   ]
  },
  {
   "cell_type": "code",
   "execution_count": 6,
   "metadata": {
    "colab": {},
    "colab_type": "code",
    "id": "kMoOG1gDj1eJ"
   },
   "outputs": [],
   "source": [
    "data_normal.columns=[ 'frame.len', 'frame.protocols', 'ip.hdr_len',\n",
    "       'ip.len', 'ip.flags.rb', 'ip.flags.df', 'p.flags.mf', 'ip.frag_offset',\n",
    "       'ip.ttl', 'ip.proto', 'ip.src', 'ip.dst', 'tcp.srcport', 'tcp.dstport',\n",
    "       'tcp.len', 'tcp.ack', 'tcp.flags.res', 'tcp.flags.ns', 'tcp.flags.cwr',\n",
    "       'tcp.flags.ecn', 'tcp.flags.urg', 'tcp.flags.ack', 'tcp.flags.push',\n",
    "       'tcp.flags.reset', 'tcp.flags.syn', 'tcp.flags.fin', 'tcp.window_size',\n",
    "       'tcp.time_delta','class']\n",
    "data_attack.columns=[ 'frame.len', 'frame.protocols', 'ip.hdr_len',\n",
    "       'ip.len', 'ip.flags.rb', 'ip.flags.df', 'p.flags.mf', 'ip.frag_offset',\n",
    "       'ip.ttl', 'ip.proto', 'ip.src', 'ip.dst', 'tcp.srcport', 'tcp.dstport',\n",
    "       'tcp.len', 'tcp.ack', 'tcp.flags.res', 'tcp.flags.ns', 'tcp.flags.cwr',\n",
    "       'tcp.flags.ecn', 'tcp.flags.urg', 'tcp.flags.ack', 'tcp.flags.push',\n",
    "       'tcp.flags.reset', 'tcp.flags.syn', 'tcp.flags.fin', 'tcp.window_size',\n",
    "       'tcp.time_delta','class']"
   ]
  },
  {
   "cell_type": "markdown",
   "metadata": {},
   "source": [
    "# Drop unwanted columns"
   ]
  },
  {
   "cell_type": "code",
   "execution_count": 7,
   "metadata": {
    "colab": {},
    "colab_type": "code",
    "id": "13n5FKSJj4Fn"
   },
   "outputs": [],
   "source": [
    "data_normal=data_normal.drop(['ip.src', 'ip.dst','frame.protocols'],axis=1)\n",
    "data_attack=data_attack.drop(['ip.src', 'ip.dst','frame.protocols'],axis=1)"
   ]
  },
  {
   "cell_type": "code",
   "execution_count": 8,
   "metadata": {
    "colab": {},
    "colab_type": "code",
    "id": "EdgboyqDj-AJ"
   },
   "outputs": [],
   "source": [
    "features=[ 'frame.len', 'ip.hdr_len',\n",
    "       'ip.len', 'ip.flags.rb', 'ip.flags.df', 'p.flags.mf', 'ip.frag_offset',\n",
    "       'ip.ttl', 'ip.proto', 'tcp.srcport', 'tcp.dstport',\n",
    "       'tcp.len', 'tcp.ack', 'tcp.flags.res', 'tcp.flags.ns', 'tcp.flags.cwr',\n",
    "       'tcp.flags.ecn', 'tcp.flags.urg', 'tcp.flags.ack', 'tcp.flags.push',\n",
    "       'tcp.flags.reset', 'tcp.flags.syn', 'tcp.flags.fin', 'tcp.window_size',\n",
    "       'tcp.time_delta']"
   ]
  },
  {
   "cell_type": "code",
   "execution_count": 9,
   "metadata": {
    "colab": {},
    "colab_type": "code",
    "id": "7IxNpgX5kAMg"
   },
   "outputs": [],
   "source": [
    "X_normal= data_normal[features].values\n",
    "X_attack= data_attack[features].values\n",
    "Y_normal= data_normal['class']\n",
    "Y_attack= data_attack['class']\n",
    "X=np.concatenate((X_normal,X_attack))\n",
    "Y=np.concatenate((Y_normal,Y_attack))"
   ]
  },
  {
   "cell_type": "markdown",
   "metadata": {},
   "source": [
    "# Standardise the data"
   ]
  },
  {
   "cell_type": "code",
   "execution_count": 10,
   "metadata": {
    "colab": {},
    "colab_type": "code",
    "id": "b3xIr2rRkWMX"
   },
   "outputs": [],
   "source": [
    "scalar = StandardScaler(copy=True, with_mean=True, with_std=True)\n",
    "scalar.fit(X)\n",
    "X = scalar.transform(X)"
   ]
  },
  {
   "cell_type": "markdown",
   "metadata": {},
   "source": [
    "# the class field, replace value 'attack' with 0 and 'normal' with 1"
   ]
  },
  {
   "cell_type": "code",
   "execution_count": 11,
   "metadata": {
    "colab": {},
    "colab_type": "code",
    "id": "0U1VeOtEkYBX"
   },
   "outputs": [],
   "source": [
    "for i in range(0,len(Y)):\n",
    "  if Y[i] ==\"attack\":\n",
    "    Y[i]=0\n",
    "  else:\n",
    "    Y[i]=1\n",
    "    "
   ]
  },
  {
   "cell_type": "markdown",
   "metadata": {},
   "source": [
    "After feature transformation, we get a 𝑚×𝑛' matrix, where 𝑚 indicates the number of packets and 𝑛' indicates the number of new features after transformation. In order to learn patterns in both long and short term, we use a sliding window to separate continuous packets and reshape the data into a series of time windows with window size 𝑇. The label 𝑦 in each window illustrates the last packet. After reshaping, we have a three-dimensional matrix with shape (𝑚−𝑇 )×𝑇 ×𝑛'. Figure illustrates the workflow of feature extraction, transformation, and reshaping.\n",
    "![dataset transformation](feature_extraction.png)\n",
    "In this way, we change the features from conventional packet-based to window-based, by which we can learn network patterns from both previous (𝑇 −1) packets and current packet."
   ]
  },
  {
   "cell_type": "code",
   "execution_count": 12,
   "metadata": {
    "colab": {},
    "colab_type": "code",
    "id": "PEK_22RTkrvH"
   },
   "outputs": [],
   "source": [
    "features = len(X[0])\n",
    "samples = X.shape[0]\n",
    "train_len = 25\n",
    "input_len = samples - train_len\n",
    "I = np.zeros((samples - train_len, train_len, features))\n",
    "\n",
    "for i in range(input_len):\n",
    "    temp = np.zeros((train_len, features))\n",
    "    for j in range(i, i + train_len - 1):\n",
    "        temp[j-i] = X[j]\n",
    "    I[i] = temp"
   ]
  },
  {
   "cell_type": "code",
   "execution_count": 13,
   "metadata": {},
   "outputs": [
    {
     "data": {
      "text/plain": [
       "(100000, 25)"
      ]
     },
     "execution_count": 13,
     "metadata": {},
     "output_type": "execute_result"
    }
   ],
   "source": [
    "X.shape"
   ]
  },
  {
   "cell_type": "code",
   "execution_count": 14,
   "metadata": {
    "colab": {},
    "colab_type": "code",
    "id": "1l5ft9AblBln"
   },
   "outputs": [],
   "source": [
    "X_train, X_test, Y_train, Y_test = train_test_split(I, Y[25:100000], test_size = 0.2)"
   ]
  },
  {
   "cell_type": "markdown",
   "metadata": {},
   "source": [
    "The architecture used is \n",
    "![Model](model_brnn.png)"
   ]
  },
  {
   "cell_type": "code",
   "execution_count": 15,
   "metadata": {
    "colab": {},
    "colab_type": "code",
    "id": "SzHoR1ewdODm"
   },
   "outputs": [],
   "source": [
    "def create_baseline():\n",
    "    model = Sequential()\n",
    "    \n",
    "    model.add(Bidirectional(LSTM(64, activation='tanh', kernel_regularizer='l2')))\n",
    "    model.add(Dense(128, activation = 'relu', kernel_regularizer='l2'))\n",
    "    model.add(Dense(1, activation = 'sigmoid', kernel_regularizer='l2'))\n",
    "    \n",
    "    model.compile(loss = 'binary_crossentropy', optimizer = 'adam', metrics = ['accuracy'])\n",
    "    \n",
    "    return model"
   ]
  },
  {
   "cell_type": "code",
   "execution_count": 19,
   "metadata": {
    "colab": {},
    "colab_type": "code",
    "id": "fW-zMrYFdVP9"
   },
   "outputs": [],
   "source": [
    "model = create_baseline()"
   ]
  },
  {
   "cell_type": "code",
   "execution_count": 20,
   "metadata": {},
   "outputs": [],
   "source": [
    "import numpy as np\n",
    "\n",
    "X_train = np.array(X_train, dtype=np.float32)\n",
    "Y_train = np.array(Y_train, dtype=np.float32)\n"
   ]
  },
  {
   "cell_type": "code",
   "execution_count": 21,
   "metadata": {},
   "outputs": [],
   "source": [
    "# from keras.utils import to_categorical\n",
    "\n",
    "# # Assuming Y_train is originally in shape (samples, )\n",
    "# # One-hot encode the labels\n",
    "# Y_train = to_categorical(Y_train, num_classes=28)  # Replace 2 with the actual number of classes\n",
    "\n",
    "# Now, Y_train will have the shape (samples, 2)\n"
   ]
  },
  {
   "cell_type": "code",
   "execution_count": 22,
   "metadata": {},
   "outputs": [],
   "source": [
    "# X_train = X_train.astype('float32') / 255.0  # Normalize to [0, 1]\n"
   ]
  },
  {
   "cell_type": "code",
   "execution_count": 23,
   "metadata": {},
   "outputs": [],
   "source": [
    "# from keras.utils import to_categorical\n",
    "\n",
    "# Y_train = to_categorical(Y_train)\n"
   ]
  },
  {
   "cell_type": "code",
   "execution_count": 24,
   "metadata": {},
   "outputs": [],
   "source": [
    "# # For binary classification\n",
    "# model.add(Dense(1, activation='sigmoid'))\n",
    "\n",
    "# # For multi-class classification (assuming 2 classes)\n",
    "# model.add(Dense(2, activation='softmax'))\n"
   ]
  },
  {
   "cell_type": "code",
   "execution_count": 25,
   "metadata": {
    "colab": {},
    "colab_type": "code",
    "id": "d6nUrwGNdYUP"
   },
   "outputs": [
    {
     "name": "stdout",
     "output_type": "stream",
     "text": [
      "Epoch 1/40\n",
      "WARNING:tensorflow:From c:\\Users\\aman9\\OneDrive\\Desktop\\HACKTOFUTER\\.venv\\lib\\site-packages\\keras\\src\\utils\\tf_utils.py:492: The name tf.ragged.RaggedTensorValue is deprecated. Please use tf.compat.v1.ragged.RaggedTensorValue instead.\n",
      "\n",
      "WARNING:tensorflow:From c:\\Users\\aman9\\OneDrive\\Desktop\\HACKTOFUTER\\.venv\\lib\\site-packages\\keras\\src\\engine\\base_layer_utils.py:384: The name tf.executing_eagerly_outside_functions is deprecated. Please use tf.compat.v1.executing_eagerly_outside_functions instead.\n",
      "\n",
      "2000/2000 [==============================] - 39s 16ms/step - loss: 0.2987 - accuracy: 0.9329 - val_loss: 0.1981 - val_accuracy: 0.9475\n",
      "Epoch 2/40\n",
      "2000/2000 [==============================] - 33s 17ms/step - loss: 0.1741 - accuracy: 0.9571 - val_loss: 0.1713 - val_accuracy: 0.9582\n",
      "Epoch 3/40\n",
      "2000/2000 [==============================] - 33s 16ms/step - loss: 0.1604 - accuracy: 0.9610 - val_loss: 0.1573 - val_accuracy: 0.9603\n",
      "Epoch 4/40\n",
      "2000/2000 [==============================] - 32s 16ms/step - loss: 0.1557 - accuracy: 0.9615 - val_loss: 0.1470 - val_accuracy: 0.9620\n",
      "Epoch 5/40\n",
      "2000/2000 [==============================] - 33s 16ms/step - loss: 0.1482 - accuracy: 0.9632 - val_loss: 0.1573 - val_accuracy: 0.9625\n",
      "Epoch 6/40\n",
      "2000/2000 [==============================] - 33s 17ms/step - loss: 0.1359 - accuracy: 0.9677 - val_loss: 0.1221 - val_accuracy: 0.9684\n",
      "Epoch 7/40\n",
      "2000/2000 [==============================] - 32s 16ms/step - loss: 0.1368 - accuracy: 0.9664 - val_loss: 0.1345 - val_accuracy: 0.9679\n",
      "Epoch 8/40\n",
      "2000/2000 [==============================] - 32s 16ms/step - loss: 0.1292 - accuracy: 0.9689 - val_loss: 0.1214 - val_accuracy: 0.9681\n",
      "Epoch 9/40\n",
      "2000/2000 [==============================] - 33s 16ms/step - loss: 0.1374 - accuracy: 0.9663 - val_loss: 0.1243 - val_accuracy: 0.9689\n",
      "Epoch 10/40\n",
      "2000/2000 [==============================] - 32s 16ms/step - loss: 0.1296 - accuracy: 0.9673 - val_loss: 0.1373 - val_accuracy: 0.9641\n",
      "Epoch 11/40\n",
      "2000/2000 [==============================] - 32s 16ms/step - loss: 0.1248 - accuracy: 0.9689 - val_loss: 0.1384 - val_accuracy: 0.9547\n",
      "Epoch 12/40\n",
      "2000/2000 [==============================] - 32s 16ms/step - loss: 0.1236 - accuracy: 0.9692 - val_loss: 0.1214 - val_accuracy: 0.9690\n",
      "Epoch 13/40\n",
      "2000/2000 [==============================] - 32s 16ms/step - loss: 0.1198 - accuracy: 0.9702 - val_loss: 0.1161 - val_accuracy: 0.9686\n",
      "Epoch 14/40\n",
      "2000/2000 [==============================] - 33s 17ms/step - loss: 0.1244 - accuracy: 0.9685 - val_loss: 0.1140 - val_accuracy: 0.9731\n",
      "Epoch 15/40\n",
      "2000/2000 [==============================] - 32s 16ms/step - loss: 0.1257 - accuracy: 0.9679 - val_loss: 0.1131 - val_accuracy: 0.9702\n",
      "Epoch 16/40\n",
      "2000/2000 [==============================] - 32s 16ms/step - loss: 0.1254 - accuracy: 0.9665 - val_loss: 0.1176 - val_accuracy: 0.9702\n",
      "Epoch 17/40\n",
      "2000/2000 [==============================] - 32s 16ms/step - loss: 0.1284 - accuracy: 0.9670 - val_loss: 0.1262 - val_accuracy: 0.9700\n",
      "Epoch 18/40\n",
      "2000/2000 [==============================] - 33s 16ms/step - loss: 0.1141 - accuracy: 0.9727 - val_loss: 0.1184 - val_accuracy: 0.9702\n",
      "Epoch 19/40\n",
      "2000/2000 [==============================] - 33s 16ms/step - loss: 0.1217 - accuracy: 0.9696 - val_loss: 0.1403 - val_accuracy: 0.9664\n",
      "Epoch 20/40\n",
      "2000/2000 [==============================] - 33s 16ms/step - loss: 0.1163 - accuracy: 0.9709 - val_loss: 0.1129 - val_accuracy: 0.9706\n",
      "Epoch 21/40\n",
      "2000/2000 [==============================] - 33s 16ms/step - loss: 0.1173 - accuracy: 0.9703 - val_loss: 0.1701 - val_accuracy: 0.9551\n",
      "Epoch 22/40\n",
      "2000/2000 [==============================] - 32s 16ms/step - loss: 0.1216 - accuracy: 0.9713 - val_loss: 0.1107 - val_accuracy: 0.9739\n",
      "Epoch 23/40\n",
      "2000/2000 [==============================] - 34s 17ms/step - loss: 0.1120 - accuracy: 0.9725 - val_loss: 0.1217 - val_accuracy: 0.9702\n",
      "Epoch 24/40\n",
      "2000/2000 [==============================] - 33s 17ms/step - loss: 0.1100 - accuracy: 0.9733 - val_loss: 0.1123 - val_accuracy: 0.9709\n",
      "Epoch 25/40\n",
      "2000/2000 [==============================] - 33s 17ms/step - loss: 0.1098 - accuracy: 0.9725 - val_loss: 0.1153 - val_accuracy: 0.9706\n",
      "Epoch 26/40\n",
      "2000/2000 [==============================] - 33s 16ms/step - loss: 0.1073 - accuracy: 0.9737 - val_loss: 0.1099 - val_accuracy: 0.9724\n",
      "Epoch 27/40\n",
      "2000/2000 [==============================] - 33s 16ms/step - loss: 0.1085 - accuracy: 0.9731 - val_loss: 0.1000 - val_accuracy: 0.9734\n",
      "Epoch 28/40\n",
      "2000/2000 [==============================] - 33s 17ms/step - loss: 0.1061 - accuracy: 0.9746 - val_loss: 0.1160 - val_accuracy: 0.9719\n",
      "Epoch 29/40\n",
      "2000/2000 [==============================] - 33s 16ms/step - loss: 0.1044 - accuracy: 0.9748 - val_loss: 0.1051 - val_accuracy: 0.9742\n",
      "Epoch 30/40\n",
      "2000/2000 [==============================] - 32s 16ms/step - loss: 0.1079 - accuracy: 0.9740 - val_loss: 0.1222 - val_accuracy: 0.9717\n",
      "Epoch 31/40\n",
      "2000/2000 [==============================] - 30s 15ms/step - loss: 0.1034 - accuracy: 0.9757 - val_loss: 0.1093 - val_accuracy: 0.9705\n",
      "Epoch 32/40\n",
      "2000/2000 [==============================] - 30s 15ms/step - loss: 0.1077 - accuracy: 0.9746 - val_loss: 0.1580 - val_accuracy: 0.9617\n",
      "Epoch 33/40\n",
      "2000/2000 [==============================] - 30s 15ms/step - loss: 0.1110 - accuracy: 0.9731 - val_loss: 0.1069 - val_accuracy: 0.9735\n",
      "Epoch 34/40\n",
      "2000/2000 [==============================] - 29s 15ms/step - loss: 0.1032 - accuracy: 0.9757 - val_loss: 0.1190 - val_accuracy: 0.9716\n",
      "Epoch 35/40\n",
      "2000/2000 [==============================] - 32s 16ms/step - loss: 0.0975 - accuracy: 0.9784 - val_loss: 0.1154 - val_accuracy: 0.9718\n",
      "Epoch 36/40\n",
      "2000/2000 [==============================] - 34s 17ms/step - loss: 0.1009 - accuracy: 0.9762 - val_loss: 0.1479 - val_accuracy: 0.9520\n",
      "Epoch 37/40\n",
      "2000/2000 [==============================] - 32s 16ms/step - loss: 0.1080 - accuracy: 0.9748 - val_loss: 0.0986 - val_accuracy: 0.9749\n",
      "Epoch 38/40\n",
      "2000/2000 [==============================] - 33s 16ms/step - loss: 0.1007 - accuracy: 0.9767 - val_loss: 0.1176 - val_accuracy: 0.9701\n",
      "Epoch 39/40\n",
      "2000/2000 [==============================] - 40s 20ms/step - loss: 0.1009 - accuracy: 0.9764 - val_loss: 0.1033 - val_accuracy: 0.9711\n",
      "Epoch 40/40\n",
      "2000/2000 [==============================] - 38s 19ms/step - loss: 0.1127 - accuracy: 0.9726 - val_loss: 0.1087 - val_accuracy: 0.9768\n"
     ]
    }
   ],
   "source": [
    "history = model.fit(X_train, Y_train, epochs = 40,validation_split=0.2, verbose = 1)"
   ]
  },
  {
   "cell_type": "markdown",
   "metadata": {},
   "source": [
    "Obtained plot of accuracy\n",
    "\n",
    "![plot of accuracy](BRNN_Model_Accuracy.png)"
   ]
  },
  {
   "cell_type": "code",
   "execution_count": 26,
   "metadata": {
    "colab": {},
    "colab_type": "code",
    "id": "7dR8MHphk68X"
   },
   "outputs": [
    {
     "data": {
      "image/png": "[encoded data removed]",
      "text/plain": [
       "<Figure size 640x480 with 1 Axes>"
      ]
     },
     "metadata": {},
     "output_type": "display_data"
    }
   ],
   "source": [
    "# Plot training & validation accuracy values\n",
    "plt.plot(history.history['accuracy'])\n",
    "plt.plot(history.history['val_accuracy'])\n",
    "plt.title('BRNN Model Accuracy')\n",
    "plt.ylabel('Accuracy')\n",
    "plt.xlabel('Epoch')\n",
    "plt.legend(['Train', 'Test'], loc='lower right')\n",
    "plt.savefig('BRNN Model Accuracy.png')\n",
    "plt.show()"
   ]
  },
  {
   "cell_type": "markdown",
   "metadata": {},
   "source": [
    "Plot of loss\n",
    "![plot of loss](BRNN_Model_Loss.png)"
   ]
  },
  {
   "cell_type": "code",
   "execution_count": 27,
   "metadata": {
    "colab": {},
    "colab_type": "code",
    "id": "eKjMDYIOk72N"
   },
   "outputs": [
    {
     "data": {
      "image/png": "[encoded data removed]",
      "text/plain": [
       "<Figure size 640x480 with 1 Axes>"
      ]
     },
     "metadata": {},
     "output_type": "display_data"
    }
   ],
   "source": [
    "# Plot training & validation loss values\n",
    "plt.plot(history.history['loss'])\n",
    "plt.plot(history.history['val_loss'])\n",
    "plt.title('BRNN Model  Loss')\n",
    "plt.ylabel('Loss')\n",
    "plt.xlabel('Epoch')\n",
    "plt.legend(['Train', 'Test'], loc='upper left')\n",
    "plt.savefig('BRNN Model Loss.png')\n",
    "plt.show()\n"
   ]
  },
  {
   "cell_type": "code",
   "execution_count": 28,
   "metadata": {
    "colab": {},
    "colab_type": "code",
    "id": "heMaPerEdn3c"
   },
   "outputs": [
    {
     "name": "stdout",
     "output_type": "stream",
     "text": [
      "625/625 [==============================] - 6s 7ms/step\n",
      "[[0.99790084]\n",
      " [0.99821687]\n",
      " [0.00239185]\n",
      " ...\n",
      " [0.99588436]\n",
      " [0.9789886 ]\n",
      " [0.00434975]]\n"
     ]
    }
   ],
   "source": [
    "predict = model.predict(X_test, verbose=1)\n",
    "print(predict)"
   ]
  },
  {
   "cell_type": "markdown",
   "metadata": {},
   "source": [
    "#  Calculate True positive,True negetive,False positive and False negetive values. Create Heatmap."
   ]
  },
  {
   "cell_type": "code",
   "execution_count": 29,
   "metadata": {
    "colab": {},
    "colab_type": "code",
    "id": "rAjFgVm6uGGp"
   },
   "outputs": [],
   "source": [
    "tp = 0\n",
    "tn = 0\n",
    "fp = 0\n",
    "fn = 0\n",
    "predictn = predict.flatten().round()\n",
    "predictn = predictn.tolist()\n",
    "Y_testn = Y_test.tolist()\n",
    "for i in range(len(Y_testn)):\n",
    "  if predictn[i]==1 and Y_testn[i]==1:\n",
    "    tp+=1\n",
    "  elif predictn[i]==0 and Y_testn[i]==0:\n",
    "    tn+=1\n",
    "  elif predictn[i]==0 and Y_testn[i]==1:\n",
    "    fp+=1\n",
    "  elif predictn[i]==1 and Y_testn[i]==0:\n",
    "    fn+=1\n"
   ]
  },
  {
   "cell_type": "code",
   "execution_count": 30,
   "metadata": {
    "colab": {
     "base_uri": "https://localhost:8080/",
     "height": 274
    },
    "colab_type": "code",
    "executionInfo": {
     "elapsed": 949,
     "status": "ok",
     "timestamp": 1557862375571,
     "user": {
      "displayName": "Mohammed Musthafa",
      "photoUrl": "",
      "userId": "16090542423726450957"
     },
     "user_tz": -330
    },
    "id": "0Ad719yjxPL2",
    "outputId": "972ee841-76cd-49f9-f0c7-6961170aae8c"
   },
   "outputs": [
    {
     "data": {
      "image/png": "[encoded data removed]",
      "text/plain": [
       "<Figure size 640x480 with 2 Axes>"
      ]
     },
     "metadata": {},
     "output_type": "display_data"
    }
   ],
   "source": [
    "to_heat_map =[[tn,fp],[fn,tp]]\n",
    "to_heat_map = pd.DataFrame(to_heat_map, index = [\"Attack\",\"Normal\"],columns = [\"Attack\",\"Normal\"])\n",
    "ax = sns.heatmap(to_heat_map,annot=True, fmt=\"d\")"
   ]
  },
  {
   "cell_type": "markdown",
   "metadata": {},
   "source": [
    "# Save details "
   ]
  },
  {
   "cell_type": "code",
   "execution_count": 31,
   "metadata": {
    "colab": {},
    "colab_type": "code",
    "id": "rMBI_fKCzQBN"
   },
   "outputs": [],
   "source": [
    "figure = ax.get_figure()    \n",
    "figure.savefig('confusion_matrix_BRNN.png', dpi=400)"
   ]
  },
  {
   "cell_type": "code",
   "execution_count": 33,
   "metadata": {
    "colab": {},
    "colab_type": "code",
    "id": "mdcKrPWEfE44"
   },
   "outputs": [],
   "source": [
    "model.save('model_ddos.h5')"
   ]
  },
  {
   "cell_type": "code",
   "execution_count": 35,
   "metadata": {},
   "outputs": [],
   "source": [
    "X_test = np.array(X_test, dtype=np.float32)\n",
    "Y_test = np.array(Y_test, dtype=np.float32)\n"
   ]
  },
  {
   "cell_type": "code",
   "execution_count": 36,
   "metadata": {
    "colab": {},
    "colab_type": "code",
    "id": "mv1vi3_KfPHE"
   },
   "outputs": [
    {
     "name": "stdout",
     "output_type": "stream",
     "text": [
      "accuracy: 97.60%\n"
     ]
    }
   ],
   "source": [
    "scores = model.evaluate(X_test, Y_test, verbose=0)\n",
    "print(\"%s: %.2f%%\" % (model.metrics_names[1], scores[1]*100))"
   ]
  },
  {
   "cell_type": "code",
   "execution_count": 37,
   "metadata": {},
   "outputs": [
    {
     "name": "stdout",
     "output_type": "stream",
     "text": [
      "625/625 [==============================] - 5s 7ms/step\n"
     ]
    }
   ],
   "source": [
    "import tensorflow as tf\n",
    "\n",
    "# Load the saved model\n",
    "model = tf.keras.models.load_model('model_ddos.h5')\n",
    "\n",
    "# Define the input pipeline\n",
    "train_data = tf.data.Dataset.from_tensor_slices((X_train, Y_train))\n",
    "train_data = train_data.shuffle(buffer_size=10000)\n",
    "train_data = train_data.batch(batch_size=32)\n",
    "train_data = train_data.prefetch(buffer_size=tf.data.experimental.AUTOTUNE)\n",
    "\n",
    "# Define the validation pipeline\n",
    "val_data = tf.data.Dataset.from_tensor_slices((X_test, Y_test))\n",
    "val_data = val_data.batch(batch_size=32)\n",
    "val_data = val_data.prefetch(buffer_size=tf.data.experimental.AUTOTUNE)\n",
    "\n",
    "# Define the test pipeline\n",
    "test_data = tf.data.Dataset.from_tensor_slices(X_test)\n",
    "test_data = test_data.batch(batch_size=32)\n",
    "test_data = test_data.prefetch(buffer_size=tf.data.experimental.AUTOTUNE)\n",
    "\n",
    "# Use the model to make predictions on the test data\n",
    "predictions = model.predict(test_data)"
   ]
  },
  {
   "cell_type": "code",
   "execution_count": 38,
   "metadata": {},
   "outputs": [
    {
     "name": "stdout",
     "output_type": "stream",
     "text": [
      "Model: \"sequential_1\"\n",
      "_________________________________________________________________\n",
      " Layer (type)                Output Shape              Param #   \n",
      "=================================================================\n",
      " bidirectional_1 (Bidirecti  (None, 128)               46080     \n",
      " onal)                                                           \n",
      "                                                                 \n",
      " dense_2 (Dense)             (None, 128)               16512     \n",
      "                                                                 \n",
      " dense_3 (Dense)             (None, 1)                 129       \n",
      "                                                                 \n",
      "=================================================================\n",
      "Total params: 62721 (245.00 KB)\n",
      "Trainable params: 62721 (245.00 KB)\n",
      "Non-trainable params: 0 (0.00 Byte)\n",
      "_________________________________________________________________\n",
      "None\n"
     ]
    }
   ],
   "source": [
    "print(model.summary())\n"
   ]
  },
  {
   "cell_type": "code",
   "execution_count": null,
   "metadata": {},
   "outputs": [],
   "source": []
  }
 ],
 "metadata": {
  "colab": {
   "collapsed_sections": [],
   "name": "brnn_classifier",
   "provenance": [],
   "version": "0.3.2"
  },
  "kernelspec": {
   "display_name": "Python 3",
   "language": "python",
   "name": "python3"
  },
  "language_info": {
   "codemirror_mode": {
    "name": "ipython",
    "version": 3
   },
   "file_extension": ".py",
   "mimetype": "text/x-python",
   "name": "python",
   "nbconvert_exporter": "python",
   "pygments_lexer": "ipython3",
   "version": "3.10.5"
  }
 },
 "nbformat": 4,
 "nbformat_minor": 1
}
